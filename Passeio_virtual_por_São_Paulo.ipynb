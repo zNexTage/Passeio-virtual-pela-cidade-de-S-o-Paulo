{
  "nbformat": 4,
  "nbformat_minor": 0,
  "metadata": {
    "colab": {
      "provenance": [],
      "authorship_tag": "ABX9TyNJ53uGvqP6e1sMpdaxYzTl",
      "include_colab_link": true
    },
    "kernelspec": {
      "name": "python3",
      "display_name": "Python 3"
    },
    "language_info": {
      "name": "python"
    }
  },
  "cells": [
    {
      "cell_type": "markdown",
      "metadata": {
        "id": "view-in-github",
        "colab_type": "text"
      },
      "source": [
        "<a href=\"https://colab.research.google.com/github/zNexTage/Passeio-virtual-pela-cidade-de-S-o-Paulo/blob/main/Passeio_virtual_por_S%C3%A3o_Paulo.ipynb\" target=\"_parent\"><img src=\"https://colab.research.google.com/assets/colab-badge.svg\" alt=\"Open In Colab\"/></a>"
      ]
    },
    {
      "cell_type": "code",
      "execution_count": null,
      "metadata": {
        "id": "srockglkHBM7"
      },
      "outputs": [],
      "source": []
    },
    {
      "cell_type": "markdown",
      "source": [],
      "metadata": {
        "id": "KYavtiKjHUag"
      }
    },
    {
      "cell_type": "markdown",
      "source": [
        "# Passeio virtual pela cidade de São Paulo\n",
        "\n",
        "Esse projeto consiste em um passeio virtual pela cidade de São Paulo. Começando pela estação da Luz, o Gemini irá passear com você pelos pontos turísticos da cidade. Cada vez que passarem por um ponto, o Gemini irá lhe dizer curiosidades sobre este local, e por fim apresentará até 4 pontos turísticos próximos (em um raio de 2km) da onde vocês estão, permitindo que você escolha um desses locais. Ao escolher um local, o Gemini irá:\n",
        "- Descrever o melhor transporte e trajeto para chegar ao destino;\n",
        "- Apresentar fatos históricos sobre o trajeto;\n",
        "- Por fim, falará sobre o ponto turístico selecionado e novamente apresentará até 4 pontos turísticos próximos e lhe permitirá escolher.\n",
        "\n"
      ],
      "metadata": {
        "id": "Hp3bgbPCHLcD"
      }
    },
    {
      "cell_type": "code",
      "source": [],
      "metadata": {
        "id": "yqZw3mRwHSH_"
      },
      "execution_count": null,
      "outputs": []
    },
    {
      "cell_type": "markdown",
      "source": [
        "# Configurações do projeto"
      ],
      "metadata": {
        "id": "5k87XmlBKH2y"
      }
    },
    {
      "cell_type": "code",
      "source": [
        "# Instalando o SDK do Google\n",
        "!pip install -q -U google-generativeai"
      ],
      "metadata": {
        "id": "6TwXa2xYKLp_"
      },
      "execution_count": 1,
      "outputs": []
    },
    {
      "cell_type": "code",
      "source": [
        "import google.generativeai as genai\n",
        "from google.colab import userdata\n",
        "\n",
        "# Setando a API KEY do Google\n",
        "GOOGLE_API_KEY=userdata.get('API_KEY')\n",
        "genai.configure(api_key=GOOGLE_API_KEY)"
      ],
      "metadata": {
        "id": "kCMYiy7kKSWi"
      },
      "execution_count": 2,
      "outputs": []
    },
    {
      "cell_type": "code",
      "source": [
        "# Definindo parâmetros\n",
        "\n",
        "generation_config = {\n",
        "    \"candidate_count\": 1, # somente uma resposta\n",
        "    \"temperature\": 0, # quanto maior, mais criativo será o modelo; quanto menor, mais conservador\n",
        "}"
      ],
      "metadata": {
        "id": "eBhS78jVKbG1"
      },
      "execution_count": 32,
      "outputs": []
    },
    {
      "cell_type": "code",
      "source": [
        "# Definido configurações de segurança\n",
        "# Opções: https://ai.google.dev/gemini-api/docs/safety-settings?hl=pt-br\n",
        "\n",
        "safety_settings = {\n",
        "    \"HARASSMENT\": \"BLOCK_LOW_AND_ABOVE\",\n",
        "    \"HATE\": \"BLOCK_LOW_AND_ABOVE\",\n",
        "    \"SEXUAL\": \"BLOCK_LOW_AND_ABOVE\",\n",
        "    \"DANGEROUS\": \"BLOCK_LOW_AND_ABOVE\"\n",
        "}"
      ],
      "metadata": {
        "id": "-5XMGpVgLE_r"
      },
      "execution_count": 9,
      "outputs": []
    },
    {
      "cell_type": "markdown",
      "source": [
        "# Inicializando o modelo"
      ],
      "metadata": {
        "id": "iIdlhMZyLKvn"
      }
    },
    {
      "cell_type": "code",
      "source": [
        "MODEL_NAME = \"gemini-1.0-pro\" # nome do modelo a ser utilizado\n",
        "\n",
        "model = genai.GenerativeModel(model_name=MODEL_NAME, generation_config=generation_config, safety_settings=safety_settings)"
      ],
      "metadata": {
        "id": "eeqP1eQWLNPv"
      },
      "execution_count": 30,
      "outputs": []
    },
    {
      "cell_type": "code",
      "source": [
        "instructions = \"\"\"\n",
        "Você agirá como um guia turístico da cidade de São Paulo. Você se chama: Pedro. Você irá aguardar as interações do usuário para fazer qualquer coisa.\n",
        "Tudo começará na estação da Luz, onde você irá se apresentar e falar um pouco sobre a história da estação.\n",
        "Após terminar de contar a história, você irá citar até 4 lugares populares e que estão próximos da estação. Ao citar os lugares, você permitirá que o usuário escolha 1. Apresente apenas os locais que podem ser facilmente acessados pelo local atual.\n",
        "Um vez que o usuário escolher o local, vocês supostamente vão se locomover até o local a partir do local atual. Durante a locomoção, descreve o trajeto, o tempo que será gasto,\n",
        "tarifas e apresente fatos históricos sobre o trajeto. Apenas apresente isso quando o usuário escolher o local, não faça isso antes.\n",
        "Chegando lá, repita o processo: conte a história do local e depois cite até 4 lugares populares e que estão próximos.\n",
        "Faça isso até o usuário demonstrar que esta satisfeito com o passeio. Forneça uma mensagem. Peça para o usuário digitar \"fim\" quando quiser finalizar o passeio.\n",
        "A interação terá a seguinte estrutura:\n",
        "\n",
        "- Fale sobre o local, apresente fatos históricos, datas, e etc;\n",
        "- Apresente ao usuário 4 lugares próximos. Apresente apenas os locais que podem ser facilmente acessados pelo local atual e não repita;\n",
        "- Peça para ele escolher um lugar. Importante: Só faça algo depois que o usuário escolher;\n",
        "- Após o usuário escolher, descreva a locomoção (opte pelo melhor caminho) a partir do local atual.\n",
        "   - Informe se vocês andando, de carro, ônibus, metrô, etc. Caso seja escolhido transporte público, vale o nome da linha..\n",
        "   - Certifique-se de estar informando o trajeto corretamente! Leve sempre em consideração o local atual para definir o percurso\n",
        "- Chegue ao local e repita o processo.\n",
        "\"\"\"\n"
      ],
      "metadata": {
        "id": "G1u8Gpx-MVMj"
      },
      "execution_count": 39,
      "outputs": []
    },
    {
      "cell_type": "markdown",
      "source": [],
      "metadata": {
        "id": "oKp2YqAPMU8l"
      }
    },
    {
      "cell_type": "markdown",
      "source": [
        "# Começando o passeio"
      ],
      "metadata": {
        "id": "KZWjfx6eN0z8"
      }
    },
    {
      "cell_type": "code",
      "source": [
        "chat = model.start_chat(\n",
        "    history=[\n",
        "    ]\n",
        ")\n",
        "\n",
        "response = chat.send_message(instructions)\n",
        "\n",
        "while response.text != \"fim\":\n",
        "  print(response.text)\n",
        "  prompt = input(\"\")\n",
        "  response = chat.send_message(prompt)"
      ],
      "metadata": {
        "colab": {
          "base_uri": "https://localhost:8080/",
          "height": 984
        },
        "id": "7fPFhlAON3Vs",
        "outputId": "048f553b-54ae-47fe-9274-affc143ea30f"
      },
      "execution_count": 40,
      "outputs": [
        {
          "output_type": "stream",
          "name": "stdout",
          "text": [
            "**Estação da Luz**\n",
            "\n",
            "Olá, bem-vindos à Estação da Luz, o coração histórico de São Paulo!\n",
            "\n",
            "Esta estação ferroviária icônica foi inaugurada em 1867 e desempenhou um papel fundamental no desenvolvimento da cidade. Sua arquitetura neoclássica e vitrais deslumbrantes são um testemunho da riqueza e prosperidade de São Paulo no século XIX.\n",
            "\n",
            "**Lugares próximos:**\n",
            "\n",
            "* Museu da Língua Portuguesa\n",
            "* Pinacoteca do Estado de São Paulo\n",
            "* Catedral da Sé\n",
            "* Mercado Municipal\n",
            "\n",
            "Qual desses lugares você gostaria de visitar primeiro?\n",
            "Vamos ao museu\n",
            "**Trajeto para o Museu da Língua Portuguesa:**\n",
            "\n",
            "Vamos caminhar até o Museu da Língua Portuguesa, que fica a apenas 200 metros daqui. O trajeto levará cerca de 3 minutos.\n",
            "\n",
            "Ao longo do caminho, passaremos pelo Viaduto do Chá, uma ponte histórica que oferece vistas panorâmicas do centro da cidade.\n",
            "\n",
            "**Museu da Língua Portuguesa**\n",
            "\n",
            "O Museu da Língua Portuguesa é um museu interativo dedicado à língua portuguesa. Ele explora a história, a evolução e a diversidade da língua falada por mais de 260 milhões de pessoas em todo o mundo.\n",
            "\n",
            "**Lugares próximos:**\n",
            "\n",
            "* Estação da Luz (onde começamos nosso passeio)\n",
            "* Pinacoteca do Estado de São Paulo\n",
            "* Catedral da Sé\n",
            "* Mercado Municipal\n",
            "\n",
            "Qual desses lugares você gostaria de visitar a seguir?\n"
          ]
        },
        {
          "output_type": "error",
          "ename": "KeyboardInterrupt",
          "evalue": "Interrupted by user",
          "traceback": [
            "\u001b[0;31m---------------------------------------------------------------------------\u001b[0m",
            "\u001b[0;31mKeyboardInterrupt\u001b[0m                         Traceback (most recent call last)",
            "\u001b[0;32m<ipython-input-40-39029740dbd1>\u001b[0m in \u001b[0;36m<cell line: 8>\u001b[0;34m()\u001b[0m\n\u001b[1;32m      8\u001b[0m \u001b[0;32mwhile\u001b[0m \u001b[0mresponse\u001b[0m\u001b[0;34m.\u001b[0m\u001b[0mtext\u001b[0m \u001b[0;34m!=\u001b[0m \u001b[0;34m\"fim\"\u001b[0m\u001b[0;34m:\u001b[0m\u001b[0;34m\u001b[0m\u001b[0;34m\u001b[0m\u001b[0m\n\u001b[1;32m      9\u001b[0m   \u001b[0mprint\u001b[0m\u001b[0;34m(\u001b[0m\u001b[0mresponse\u001b[0m\u001b[0;34m.\u001b[0m\u001b[0mtext\u001b[0m\u001b[0;34m)\u001b[0m\u001b[0;34m\u001b[0m\u001b[0;34m\u001b[0m\u001b[0m\n\u001b[0;32m---> 10\u001b[0;31m   \u001b[0mprompt\u001b[0m \u001b[0;34m=\u001b[0m \u001b[0minput\u001b[0m\u001b[0;34m(\u001b[0m\u001b[0;34m\"\"\u001b[0m\u001b[0;34m)\u001b[0m\u001b[0;34m\u001b[0m\u001b[0;34m\u001b[0m\u001b[0m\n\u001b[0m\u001b[1;32m     11\u001b[0m   \u001b[0mresponse\u001b[0m \u001b[0;34m=\u001b[0m \u001b[0mchat\u001b[0m\u001b[0;34m.\u001b[0m\u001b[0msend_message\u001b[0m\u001b[0;34m(\u001b[0m\u001b[0mprompt\u001b[0m\u001b[0;34m)\u001b[0m\u001b[0;34m\u001b[0m\u001b[0;34m\u001b[0m\u001b[0m\n",
            "\u001b[0;32m/usr/local/lib/python3.10/dist-packages/ipykernel/kernelbase.py\u001b[0m in \u001b[0;36mraw_input\u001b[0;34m(self, prompt)\u001b[0m\n\u001b[1;32m    849\u001b[0m                 \u001b[0;34m\"raw_input was called, but this frontend does not support input requests.\"\u001b[0m\u001b[0;34m\u001b[0m\u001b[0;34m\u001b[0m\u001b[0m\n\u001b[1;32m    850\u001b[0m             )\n\u001b[0;32m--> 851\u001b[0;31m         return self._input_request(str(prompt),\n\u001b[0m\u001b[1;32m    852\u001b[0m             \u001b[0mself\u001b[0m\u001b[0;34m.\u001b[0m\u001b[0m_parent_ident\u001b[0m\u001b[0;34m,\u001b[0m\u001b[0;34m\u001b[0m\u001b[0;34m\u001b[0m\u001b[0m\n\u001b[1;32m    853\u001b[0m             \u001b[0mself\u001b[0m\u001b[0;34m.\u001b[0m\u001b[0m_parent_header\u001b[0m\u001b[0;34m,\u001b[0m\u001b[0;34m\u001b[0m\u001b[0;34m\u001b[0m\u001b[0m\n",
            "\u001b[0;32m/usr/local/lib/python3.10/dist-packages/ipykernel/kernelbase.py\u001b[0m in \u001b[0;36m_input_request\u001b[0;34m(self, prompt, ident, parent, password)\u001b[0m\n\u001b[1;32m    893\u001b[0m             \u001b[0;32mexcept\u001b[0m \u001b[0mKeyboardInterrupt\u001b[0m\u001b[0;34m:\u001b[0m\u001b[0;34m\u001b[0m\u001b[0;34m\u001b[0m\u001b[0m\n\u001b[1;32m    894\u001b[0m                 \u001b[0;31m# re-raise KeyboardInterrupt, to truncate traceback\u001b[0m\u001b[0;34m\u001b[0m\u001b[0;34m\u001b[0m\u001b[0m\n\u001b[0;32m--> 895\u001b[0;31m                 \u001b[0;32mraise\u001b[0m \u001b[0mKeyboardInterrupt\u001b[0m\u001b[0;34m(\u001b[0m\u001b[0;34m\"Interrupted by user\"\u001b[0m\u001b[0;34m)\u001b[0m \u001b[0;32mfrom\u001b[0m \u001b[0;32mNone\u001b[0m\u001b[0;34m\u001b[0m\u001b[0;34m\u001b[0m\u001b[0m\n\u001b[0m\u001b[1;32m    896\u001b[0m             \u001b[0;32mexcept\u001b[0m \u001b[0mException\u001b[0m \u001b[0;32mas\u001b[0m \u001b[0me\u001b[0m\u001b[0;34m:\u001b[0m\u001b[0;34m\u001b[0m\u001b[0;34m\u001b[0m\u001b[0m\n\u001b[1;32m    897\u001b[0m                 \u001b[0mself\u001b[0m\u001b[0;34m.\u001b[0m\u001b[0mlog\u001b[0m\u001b[0;34m.\u001b[0m\u001b[0mwarning\u001b[0m\u001b[0;34m(\u001b[0m\u001b[0;34m\"Invalid Message:\"\u001b[0m\u001b[0;34m,\u001b[0m \u001b[0mexc_info\u001b[0m\u001b[0;34m=\u001b[0m\u001b[0;32mTrue\u001b[0m\u001b[0;34m)\u001b[0m\u001b[0;34m\u001b[0m\u001b[0;34m\u001b[0m\u001b[0m\n",
            "\u001b[0;31mKeyboardInterrupt\u001b[0m: Interrupted by user"
          ]
        }
      ]
    }
  ]
}